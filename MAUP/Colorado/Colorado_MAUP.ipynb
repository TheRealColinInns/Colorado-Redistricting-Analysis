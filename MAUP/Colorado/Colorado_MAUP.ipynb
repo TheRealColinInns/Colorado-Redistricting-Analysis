{
 "cells": [
  {
   "cell_type": "code",
   "execution_count": 14,
   "id": "8aae6d28",
   "metadata": {},
   "outputs": [],
   "source": [
    "import warnings\n",
    "warnings.simplefilter(action='ignore', category=FutureWarning)\n",
    "\n",
    "from gerrychain import Graph, Partition\n",
    "\n",
    "import pandas as pd\n",
    "import geopandas as gpd\n",
    "import maup\n",
    "import time\n",
    "\n",
    "maup.progress.enabled = True"
   ]
  },
  {
   "cell_type": "code",
   "execution_count": 15,
   "id": "3117558f",
   "metadata": {},
   "outputs": [],
   "source": [
    "def load_data(file_name):\n",
    "    start_time = time.time()\n",
    "    df = gpd.read_file(file_name)\n",
    "    end_time = time.time()\n",
    "    print(f'The time to import {file_name} is: {(end_time - start_time) / 60} mins')\n",
    "\n",
    "    return df"
   ]
  },
  {
   "cell_type": "code",
   "execution_count": 16,
   "id": "fba8037f",
   "metadata": {},
   "outputs": [
    {
     "name": "stdout",
     "output_type": "stream",
     "text": [
      "The time to import ./data/co_pl2020_vtd/co_pl2020_vtd.shp is: 0.7336644132932028 mins\n"
     ]
    }
   ],
   "source": [
    "population_df = load_data('./data/co_pl2020_vtd/co_pl2020_vtd.shp')"
   ]
  },
  {
   "cell_type": "code",
   "execution_count": 17,
   "id": "4e8f5e7b",
   "metadata": {},
   "outputs": [
    {
     "name": "stdout",
     "output_type": "stream",
     "text": [
      "The time to import ./data/election/co_vest_20/co_vest_20.shp is: 0.018725852171579998 mins\n"
     ]
    }
   ],
   "source": [
    "election_df = load_data('./data/election/co_vest_20/co_vest_20.shp')"
   ]
  },
  {
   "cell_type": "code",
   "execution_count": 18,
   "id": "0619e666",
   "metadata": {},
   "outputs": [
    {
     "name": "stdout",
     "output_type": "stream",
     "text": [
      "The time to import ./data/co_cong_adopted_2021/2021_Approved_Congressional_Plan_w_Final_Adjustments.shp is: 0.000578149159749349 mins\n"
     ]
    }
   ],
   "source": [
    "cong_df = load_data('./data/co_cong_adopted_2021/2021_Approved_Congressional_Plan_w_Final_Adjustments.shp')"
   ]
  },
  {
   "cell_type": "code",
   "execution_count": 19,
   "id": "12442635",
   "metadata": {},
   "outputs": [
    {
     "data": {
      "text/plain": [
       "(8, 6)"
      ]
     },
     "execution_count": 19,
     "metadata": {},
     "output_type": "execute_result"
    }
   ],
   "source": [
    "cong_df.shape"
   ]
  },
  {
   "cell_type": "code",
   "execution_count": 20,
   "id": "289e6f58",
   "metadata": {},
   "outputs": [
    {
     "name": "stdout",
     "output_type": "stream",
     "text": [
      "Index(['STATEFP20', 'COUNTYFP20', 'VTDST20', 'GEOID20', 'VTDI20', 'NAME20',\n",
      "       'NAMELSAD20', 'LSAD20', 'MTFCC20', 'FUNCSTAT20',\n",
      "       ...\n",
      "       'P0050002', 'P0050003', 'P0050004', 'P0050005', 'P0050006', 'P0050007',\n",
      "       'P0050008', 'P0050009', 'P0050010', 'geometry'],\n",
      "      dtype='object', length=348)\n",
      "Index(['STATEFP', 'COUNTYFP', 'VTDST', 'NAME', 'PRECINCT', 'G20PREDBID',\n",
      "       'G20PRERTRU', 'G20PRELJOR', 'G20PREGHAW', 'G20PRECBLA', 'G20PREUWES',\n",
      "       'G20PREOOTH', 'G20USSDHIC', 'G20USSRGAR', 'G20USSLDOA', 'G20USSODOY',\n",
      "       'G20USSOEVA', 'G20USSOWRI', 'geometry'],\n",
      "      dtype='object')\n",
      "Index(['OBJECTID', 'District', 'Shape_Leng', 'Shape_Le_1', 'Shape_Area',\n",
      "       'geometry'],\n",
      "      dtype='object')\n"
     ]
    }
   ],
   "source": [
    "print(population_df.columns)\n",
    "print(election_df.columns)\n",
    "print(cong_df.columns)"
   ]
  },
  {
   "cell_type": "code",
   "execution_count": 21,
   "id": "8e71ab1b",
   "metadata": {},
   "outputs": [
    {
     "name": "stdout",
     "output_type": "stream",
     "text": [
      "   OBJECTID  District  Shape_Leng    Shape_Le_1    Shape_Area  \\\n",
      "0         1         1    2.495876  7.814496e+05  4.336640e+09   \n",
      "1         2         2   11.320395  3.521568e+06  3.218254e+11   \n",
      "2         3         3   23.731473  7.604425e+06  1.396837e+12   \n",
      "3         4         4   19.406221  6.234628e+06  9.005584e+11   \n",
      "4         5         5    3.028264  9.616973e+05  4.109716e+10   \n",
      "5         6         6    3.414628  1.057001e+06  8.668072e+09   \n",
      "6         7         7    9.952790  3.209028e+06  2.007174e+11   \n",
      "7         8         8    4.198182  1.323140e+06  2.876257e+10   \n",
      "\n",
      "                                            geometry  \n",
      "0  POLYGON ((3233267.516 1756288.526, 3235896.265...  \n",
      "1  POLYGON ((2591672.472 2158104.322, 2592908.583...  \n",
      "2  POLYGON ((2484431.843 2159965.567, 2484825.528...  \n",
      "3  POLYGON ((3801206.673 2167225.509, 3805671.660...  \n",
      "4  POLYGON ((3166728.678 1472722.423, 3166738.944...  \n",
      "5  POLYGON ((3252619.873 1727243.005, 3256436.149...  \n",
      "6  POLYGON ((3150895.603 1804387.244, 3150890.096...  \n",
      "7  POLYGON ((3212803.730 1975922.985, 3212948.923...  \n"
     ]
    }
   ],
   "source": [
    "print(cong_df)"
   ]
  },
  {
   "cell_type": "code",
   "execution_count": 22,
   "id": "ae2b1ad1",
   "metadata": {},
   "outputs": [],
   "source": [
    "district_col_name = \"District\""
   ]
  },
  {
   "cell_type": "code",
   "execution_count": 25,
   "id": "d4fd04e4",
   "metadata": {},
   "outputs": [],
   "source": [
    "election_df = election_df.to_crs(election_df.estimate_utm_crs())\n",
    "#election_df = election_df.to_crs('EPSG:4269')"
   ]
  },
  {
   "cell_type": "code",
   "execution_count": null,
   "id": "5d3c9904",
   "metadata": {},
   "outputs": [],
   "source": [
    "blocks_to_precincts_assignment = maup.assign(population_df['geometry'].geometry, election_df['geometry'].geometry)"
   ]
  },
  {
   "cell_type": "code",
   "execution_count": 23,
   "id": "4037b217",
   "metadata": {},
   "outputs": [
    {
     "name": "stderr",
     "output_type": "stream",
     "text": [
      "100%|█████████████████████████████████████| 3215/3215 [00:02<00:00, 1073.03it/s]\n",
      "/opt/homebrew/lib/python3.10/site-packages/maup/repair.py:331: UserWarning: Geometry is in a geographic CRS. Results from 'area' are likely incorrect. Use 'GeoSeries.to_crs()' to re-project geometries to a projected CRS before this operation.\n",
      "\n",
      "  overlaps = inters[inters.area > 0].make_valid()\n"
     ]
    },
    {
     "name": "stdout",
     "output_type": "stream",
     "text": [
      "There are 1431 overlaps.\n",
      "There are 3778 holes.\n",
      "False\n"
     ]
    }
   ],
   "source": [
    "print(maup.doctor(election_df))"
   ]
  },
  {
   "cell_type": "code",
   "execution_count": 26,
   "id": "16a02e52",
   "metadata": {},
   "outputs": [
    {
     "name": "stdout",
     "output_type": "stream",
     "text": [
      "Snapping all geometries to a grid with precision 10^( -3 ) to avoid GEOS errors.\n",
      "Identifying overlaps...\n"
     ]
    },
    {
     "name": "stderr",
     "output_type": "stream",
     "text": [
      "100%|███████████████████████████████████| 11234/11234 [00:03<00:00, 3396.24it/s]\n"
     ]
    },
    {
     "name": "stdout",
     "output_type": "stream",
     "text": [
      "Resolving overlaps...\n",
      "Assigning order 2 pieces...\n",
      "Assigning order 3 pieces...\n",
      "Filling gaps...\n"
     ]
    },
    {
     "name": "stderr",
     "output_type": "stream",
     "text": [
      "Gaps to simplify: 100%|█████████████████████| 3804/3804 [17:23<00:00,  3.65it/s]\n",
      "Gaps to fill: 100%|███████████████████████████| 528/528 [02:25<00:00,  3.63it/s]\n"
     ]
    }
   ],
   "source": [
    "repaired_election_df = maup.smart_repair(election_df, snap_precision=8)"
   ]
  },
  {
   "cell_type": "code",
   "execution_count": 27,
   "id": "6de238d6",
   "metadata": {},
   "outputs": [
    {
     "name": "stderr",
     "output_type": "stream",
     "text": [
      "100%|█████████████████████████████████████| 3215/3215 [00:03<00:00, 1057.92it/s]\n"
     ]
    },
    {
     "name": "stdout",
     "output_type": "stream",
     "text": [
      "True\n"
     ]
    }
   ],
   "source": [
    "print(maup.doctor(repaired_election_df))"
   ]
  },
  {
   "cell_type": "code",
   "execution_count": 28,
   "id": "3fdab1d8",
   "metadata": {},
   "outputs": [
    {
     "name": "stderr",
     "output_type": "stream",
     "text": [
      "100%|█████████████████████████████████████| 3108/3108 [00:02<00:00, 1159.18it/s]\n",
      "/opt/homebrew/lib/python3.10/site-packages/maup/repair.py:331: UserWarning: Geometry is in a geographic CRS. Results from 'area' are likely incorrect. Use 'GeoSeries.to_crs()' to re-project geometries to a projected CRS before this operation.\n",
      "\n",
      "  overlaps = inters[inters.area > 0].make_valid()\n"
     ]
    },
    {
     "name": "stdout",
     "output_type": "stream",
     "text": [
      "True\n"
     ]
    }
   ],
   "source": [
    "print(maup.doctor(population_df))"
   ]
  },
  {
   "cell_type": "code",
   "execution_count": 29,
   "id": "ead60b76",
   "metadata": {},
   "outputs": [
    {
     "name": "stderr",
     "output_type": "stream",
     "text": [
      "100%|█████████████████████████████████████████████| 8/8 [00:00<00:00, 91.26it/s]"
     ]
    },
    {
     "name": "stdout",
     "output_type": "stream",
     "text": [
      "There are 5 holes.\n",
      "False\n"
     ]
    },
    {
     "name": "stderr",
     "output_type": "stream",
     "text": [
      "\n"
     ]
    }
   ],
   "source": [
    "print(maup.doctor(cong_df))"
   ]
  },
  {
   "cell_type": "code",
   "execution_count": 30,
   "id": "7816dae6",
   "metadata": {},
   "outputs": [
    {
     "name": "stdout",
     "output_type": "stream",
     "text": [
      "Snapping all geometries to a grid with precision 10^( -2 ) to avoid GEOS errors.\n",
      "Identifying overlaps...\n"
     ]
    },
    {
     "name": "stderr",
     "output_type": "stream",
     "text": [
      "100%|██████████████████████████████████████████| 12/12 [00:00<00:00, 587.57it/s]\n"
     ]
    },
    {
     "name": "stdout",
     "output_type": "stream",
     "text": [
      "Resolving overlaps...\n",
      "Assigning order 2 pieces...\n",
      "Filling gaps...\n"
     ]
    },
    {
     "name": "stderr",
     "output_type": "stream",
     "text": [
      "Gaps to simplify: 100%|███████████████████████████| 3/3 [00:00<00:00,  6.78it/s]\n",
      "Gaps to fill: 0it [00:00, ?it/s]\n"
     ]
    }
   ],
   "source": [
    "repaired_cong_df = maup.smart_repair(cong_df, snap_precision=8)"
   ]
  },
  {
   "cell_type": "code",
   "execution_count": 32,
   "id": "c387411c",
   "metadata": {},
   "outputs": [
    {
     "name": "stderr",
     "output_type": "stream",
     "text": [
      "100%|█████████████████████████████████████████████| 8/8 [00:00<00:00, 93.03it/s]"
     ]
    },
    {
     "name": "stdout",
     "output_type": "stream",
     "text": [
      "True\n"
     ]
    },
    {
     "name": "stderr",
     "output_type": "stream",
     "text": [
      "\n"
     ]
    }
   ],
   "source": [
    "print(maup.doctor(repaired_cong_df))"
   ]
  },
  {
   "cell_type": "code",
   "execution_count": null,
   "id": "08db96d0",
   "metadata": {},
   "outputs": [],
   "source": []
  }
 ],
 "metadata": {
  "kernelspec": {
   "display_name": "Python 3 (ipykernel)",
   "language": "python",
   "name": "python3"
  },
  "language_info": {
   "codemirror_mode": {
    "name": "ipython",
    "version": 3
   },
   "file_extension": ".py",
   "mimetype": "text/x-python",
   "name": "python",
   "nbconvert_exporter": "python",
   "pygments_lexer": "ipython3",
   "version": "3.10.13"
  }
 },
 "nbformat": 4,
 "nbformat_minor": 5
}
