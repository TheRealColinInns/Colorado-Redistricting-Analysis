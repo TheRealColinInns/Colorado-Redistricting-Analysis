{
 "cells": [
  {
   "cell_type": "code",
   "execution_count": 44,
   "id": "8aae6d28",
   "metadata": {},
   "outputs": [],
   "source": [
    "import warnings\n",
    "warnings.simplefilter(action='ignore', category=FutureWarning)\n",
    "\n",
    "from gerrychain import Graph, Partition\n",
    "\n",
    "import pandas as pd\n",
    "import geopandas as gpd\n",
    "import maup\n",
    "import time\n",
    "\n",
    "maup.progress.enabled = True"
   ]
  },
  {
   "cell_type": "code",
   "execution_count": 45,
   "id": "3117558f",
   "metadata": {},
   "outputs": [],
   "source": [
    "def load_data(file_name):\n",
    "    start_time = time.time()\n",
    "    df = gpd.read_file(file_name)\n",
    "    end_time = time.time()\n",
    "    print(f'The time to import {file_name} is: {(end_time - start_time) / 60} mins')\n",
    "\n",
    "    return df"
   ]
  },
  {
   "cell_type": "code",
   "execution_count": 46,
   "id": "fba8037f",
   "metadata": {},
   "outputs": [
    {
     "name": "stdout",
     "output_type": "stream",
     "text": [
      "The time to import ./data/co_pl2020_vtd/co_pl2020_vtd.shp is: 1.246740182240804 mins\n"
     ]
    }
   ],
   "source": [
    "population_df = load_data('./data/co_pl2020_vtd/co_pl2020_vtd.shp')"
   ]
  },
  {
   "cell_type": "code",
   "execution_count": 47,
   "id": "4e8f5e7b",
   "metadata": {},
   "outputs": [
    {
     "name": "stdout",
     "output_type": "stream",
     "text": [
      "The time to import ./data/elections/co_vest_20/co_vest_20.shp is: 0.04330414930979411 mins\n"
     ]
    }
   ],
   "source": [
    "election_df = load_data('./data/elections/co_vest_20/co_vest_20.shp')"
   ]
  },
  {
   "cell_type": "code",
   "execution_count": 68,
   "id": "0619e666",
   "metadata": {},
   "outputs": [
    {
     "name": "stdout",
     "output_type": "stream",
     "text": [
      "The time to import ./data/co_cong_adopted_2021/ is: 0.0017311533292134603 mins\n"
     ]
    }
   ],
   "source": [
    "cong_df = load_data('./data/co_cong_adopted_2021/')"
   ]
  },
  {
   "cell_type": "code",
   "execution_count": 69,
   "id": "12442635",
   "metadata": {},
   "outputs": [
    {
     "data": {
      "text/plain": [
       "(8, 6)"
      ]
     },
     "execution_count": 69,
     "metadata": {},
     "output_type": "execute_result"
    }
   ],
   "source": [
    "cong_df.shape"
   ]
  },
  {
   "cell_type": "code",
   "execution_count": 70,
   "id": "289e6f58",
   "metadata": {},
   "outputs": [
    {
     "name": "stdout",
     "output_type": "stream",
     "text": [
      "Index(['STATEFP20', 'COUNTYFP20', 'VTDST20', 'GEOID20', 'VTDI20', 'NAME20',\n",
      "       'NAMELSAD20', 'LSAD20', 'MTFCC20', 'FUNCSTAT20',\n",
      "       ...\n",
      "       'P0050002', 'P0050003', 'P0050004', 'P0050005', 'P0050006', 'P0050007',\n",
      "       'P0050008', 'P0050009', 'P0050010', 'geometry'],\n",
      "      dtype='object', length=348)\n",
      "Index(['STATEFP', 'COUNTYFP', 'VTDST', 'NAME', 'PRECINCT', 'G20PREDBID',\n",
      "       'G20PRERTRU', 'G20PRELJOR', 'G20PREGHAW', 'G20PRECBLA', 'G20PREUWES',\n",
      "       'G20PREOOTH', 'G20USSDHIC', 'G20USSRGAR', 'G20USSLDOA', 'G20USSODOY',\n",
      "       'G20USSOEVA', 'G20USSOWRI', 'geometry', 'P0020001', 'P0020002',\n",
      "       'P0020003', 'P0020004', 'P0020005', 'P0020006', 'P0020007', 'P0020008',\n",
      "       'P0020009', 'P0020010', 'P0020011', 'P0020012', 'P0020013', 'P0020014',\n",
      "       'P0020015', 'P0020016', 'P0020017', 'P0020018', 'P0020019', 'P0020020',\n",
      "       'P0020021', 'P0020022', 'P0020023', 'P0020024', 'P0020025', 'P0020026',\n",
      "       'P0020027', 'P0020028', 'P0020029', 'P0020030', 'P0020031', 'P0020032',\n",
      "       'P0020033', 'P0020034', 'P0020035', 'P0020036', 'P0020037', 'P0020038',\n",
      "       'P0020039', 'P0020040', 'P0020041', 'P0020042', 'P0020043', 'P0020044',\n",
      "       'P0020045', 'P0020046', 'P0020047', 'P0020048', 'P0020049', 'P0020050',\n",
      "       'P0020051', 'P0020052', 'P0020053', 'P0020054', 'P0020055', 'P0020056',\n",
      "       'P0020057', 'P0020058', 'P0020059', 'P0020060', 'P0020061', 'P0020062',\n",
      "       'P0020063', 'P0020064', 'P0020065', 'P0020066', 'P0020067', 'P0020068',\n",
      "       'P0020069', 'P0020070', 'P0020071', 'P0020072', 'P0020073', 'CD'],\n",
      "      dtype='object')\n",
      "Index(['OBJECTID', 'District', 'Shape_Leng', 'Shape_Le_1', 'Shape_Area',\n",
      "       'geometry'],\n",
      "      dtype='object')\n"
     ]
    }
   ],
   "source": [
    "print(population_df.columns)\n",
    "print(election_df.columns)\n",
    "print(cong_df.columns)"
   ]
  },
  {
   "cell_type": "code",
   "execution_count": 71,
   "id": "ae2b1ad1",
   "metadata": {},
   "outputs": [],
   "source": [
    "district_col_name = \"District\""
   ]
  },
  {
   "cell_type": "code",
   "execution_count": 53,
   "id": "d4fd04e4",
   "metadata": {},
   "outputs": [],
   "source": [
    "election_crs = election_df.estimate_utm_crs()\n",
    "\n",
    "election_df = election_df.to_crs(election_crs)\n",
    "population_df = population_df.to_crs(election_crs)\n",
    "cong_df = cong_df.to_crs(election_crs)"
   ]
  },
  {
   "cell_type": "code",
   "execution_count": 54,
   "id": "5d3c9904",
   "metadata": {},
   "outputs": [
    {
     "name": "stderr",
     "output_type": "stream",
     "text": [
      "100%|█████████████████████████████████████| 3215/3215 [00:02<00:00, 1335.09it/s]\n",
      "100%|██████████████████████████████████████| 3215/3215 [00:10<00:00, 305.76it/s]\n"
     ]
    }
   ],
   "source": [
    "blocks_to_precincts_assignment = maup.assign(population_df.geometry, election_df.geometry)"
   ]
  },
  {
   "cell_type": "code",
   "execution_count": 78,
   "id": "ff3a17a3",
   "metadata": {
    "scrolled": true
   },
   "outputs": [],
   "source": [
    "pop_column_names = ['P0020001', 'P0020002', 'P0020005', 'P0020006', 'P0020007',\n",
    "                    'P0020008', 'P0020009', 'P0020010', 'P0020011']"
   ]
  },
  {
   "cell_type": "code",
   "execution_count": 79,
   "id": "6334c341",
   "metadata": {},
   "outputs": [],
   "source": [
    "for name in pop_column_names:\n",
    "    election_df[name] = population_df[name].groupby(blocks_to_precincts_assignment).sum()"
   ]
  },
  {
   "cell_type": "code",
   "execution_count": 57,
   "id": "3e1e69fe",
   "metadata": {},
   "outputs": [
    {
     "name": "stdout",
     "output_type": "stream",
     "text": [
      "5773714\n",
      "5773714.0\n"
     ]
    }
   ],
   "source": [
    "print(population_df['P0020001'].sum())\n",
    "print(election_df['P0020001'].sum())"
   ]
  },
  {
   "cell_type": "code",
   "execution_count": 58,
   "id": "4037b217",
   "metadata": {},
   "outputs": [
    {
     "name": "stderr",
     "output_type": "stream",
     "text": [
      "100%|██████████████████████████████████████| 3215/3215 [00:07<00:00, 453.01it/s]\n"
     ]
    },
    {
     "name": "stdout",
     "output_type": "stream",
     "text": [
      "There are 1705 overlaps.\n",
      "There are 3584 holes.\n",
      "There are some invalid geometries.\n",
      "False\n"
     ]
    }
   ],
   "source": [
    "print(maup.doctor(election_df))"
   ]
  },
  {
   "cell_type": "code",
   "execution_count": 59,
   "id": "16a02e52",
   "metadata": {},
   "outputs": [
    {
     "name": "stdout",
     "output_type": "stream",
     "text": [
      "Snapping all geometries to a grid with precision 10^( -5 ) to avoid GEOS errors.\n",
      "Identifying overlaps...\n"
     ]
    },
    {
     "name": "stderr",
     "output_type": "stream",
     "text": [
      "100%|███████████████████████████████████| 14935/14935 [00:13<00:00, 1097.58it/s]\n"
     ]
    },
    {
     "name": "stdout",
     "output_type": "stream",
     "text": [
      "Resolving overlaps...\n",
      "Assigning order 2 pieces...\n",
      "Assigning order 3 pieces...\n",
      "Filling gaps...\n"
     ]
    },
    {
     "name": "stderr",
     "output_type": "stream",
     "text": [
      "Gaps to simplify: 5451it [49:28,  1.84it/s]                                     \n",
      "Gaps to fill: 100%|███████████████████████████| 595/595 [06:10<00:00,  1.61it/s]\n"
     ]
    }
   ],
   "source": [
    "repaired_election_df = maup.smart_repair(election_df)"
   ]
  },
  {
   "cell_type": "code",
   "execution_count": 60,
   "id": "6de238d6",
   "metadata": {},
   "outputs": [
    {
     "name": "stderr",
     "output_type": "stream",
     "text": [
      "100%|██████████████████████████████████████| 3215/3215 [00:06<00:00, 475.72it/s]\n"
     ]
    },
    {
     "name": "stdout",
     "output_type": "stream",
     "text": [
      "True\n"
     ]
    }
   ],
   "source": [
    "print(maup.doctor(repaired_election_df))"
   ]
  },
  {
   "cell_type": "code",
   "execution_count": 73,
   "id": "ead60b76",
   "metadata": {},
   "outputs": [
    {
     "name": "stderr",
     "output_type": "stream",
     "text": [
      "100%|█████████████████████████████████████████████| 8/8 [00:00<00:00, 42.67it/s]\n"
     ]
    },
    {
     "name": "stdout",
     "output_type": "stream",
     "text": [
      "There are 5 holes.\n",
      "False\n"
     ]
    }
   ],
   "source": [
    "print(maup.doctor(cong_df))"
   ]
  },
  {
   "cell_type": "code",
   "execution_count": 74,
   "id": "7816dae6",
   "metadata": {},
   "outputs": [
    {
     "name": "stdout",
     "output_type": "stream",
     "text": [
      "Snapping all geometries to a grid with precision 10^( -5 ) to avoid GEOS errors.\n",
      "Identifying overlaps...\n"
     ]
    },
    {
     "name": "stderr",
     "output_type": "stream",
     "text": [
      "100%|██████████████████████████████████████████| 13/13 [00:00<00:00, 241.99it/s]\n"
     ]
    },
    {
     "name": "stdout",
     "output_type": "stream",
     "text": [
      "Resolving overlaps...\n",
      "Filling gaps...\n"
     ]
    },
    {
     "name": "stderr",
     "output_type": "stream",
     "text": [
      "Gaps to simplify: 100%|███████████████████████████| 5/5 [00:02<00:00,  2.18it/s]\n",
      "Gaps to fill: 0it [00:00, ?it/s]\n"
     ]
    }
   ],
   "source": [
    "repaired_cong_df = maup.smart_repair(cong_df)"
   ]
  },
  {
   "cell_type": "code",
   "execution_count": 75,
   "id": "c387411c",
   "metadata": {},
   "outputs": [
    {
     "name": "stderr",
     "output_type": "stream",
     "text": [
      "100%|█████████████████████████████████████████████| 8/8 [00:00<00:00, 43.19it/s]\n"
     ]
    },
    {
     "name": "stdout",
     "output_type": "stream",
     "text": [
      "True\n"
     ]
    }
   ],
   "source": [
    "print(maup.doctor(repaired_cong_df))"
   ]
  },
  {
   "cell_type": "code",
   "execution_count": 81,
   "id": "08db96d0",
   "metadata": {},
   "outputs": [
    {
     "name": "stderr",
     "output_type": "stream",
     "text": [
      "100%|█████████████████████████████████████████████| 8/8 [00:00<00:00, 41.38it/s]\n",
      "100%|█████████████████████████████████████████████| 8/8 [00:01<00:00,  7.73it/s]\n"
     ]
    }
   ],
   "source": [
    "precincts_to_districts_assignment = maup.assign(repaired_election_df.geometry, repaired_cong_df.geometry)\n",
    "repaired_election_df[\"CD\"] = precincts_to_districts_assignment"
   ]
  },
  {
   "cell_type": "code",
   "execution_count": 82,
   "id": "fd8697a3",
   "metadata": {},
   "outputs": [
    {
     "name": "stdout",
     "output_type": "stream",
     "text": [
      "{0, 1, 2, 3, 4, 5, 6, 7}\n",
      "{1, 2, 3, 4, 5, 6, 7, 8}\n",
      "{1, 2, 3, 4, 5, 6, 7, 8}\n"
     ]
    }
   ],
   "source": [
    "print(set(repaired_election_df[\"CD\"]))\n",
    "for precinct_index in range(len(election_df)):\n",
    "    repaired_election_df.at[precinct_index, \"CD\"] = cong_df.at[repaired_election_df.at[precinct_index, \"CD\"], district_col_name]\n",
    "print(set(cong_df[district_col_name]))\n",
    "print(set(repaired_election_df[\"CD\"]))"
   ]
  },
  {
   "cell_type": "code",
   "execution_count": 84,
   "id": "abb4dcb6",
   "metadata": {},
   "outputs": [
    {
     "data": {
      "text/plain": [
       "Index(['STATEFP', 'COUNTYFP', 'VTDST', 'NAME', 'PRECINCT', 'G20PREDBID',\n",
       "       'G20PRERTRU', 'G20PRELJOR', 'G20PREGHAW', 'G20PRECBLA', 'G20PREUWES',\n",
       "       'G20PREOOTH', 'G20USSDHIC', 'G20USSRGAR', 'G20USSLDOA', 'G20USSODOY',\n",
       "       'G20USSOEVA', 'G20USSOWRI', 'geometry', 'P0020001', 'P0020002',\n",
       "       'P0020003', 'P0020004', 'P0020005', 'P0020006', 'P0020007', 'P0020008',\n",
       "       'P0020009', 'P0020010', 'P0020011', 'P0020012', 'P0020013', 'P0020014',\n",
       "       'P0020015', 'P0020016', 'P0020017', 'P0020018', 'P0020019', 'P0020020',\n",
       "       'P0020021', 'P0020022', 'P0020023', 'P0020024', 'P0020025', 'P0020026',\n",
       "       'P0020027', 'P0020028', 'P0020029', 'P0020030', 'P0020031', 'P0020032',\n",
       "       'P0020033', 'P0020034', 'P0020035', 'P0020036', 'P0020037', 'P0020038',\n",
       "       'P0020039', 'P0020040', 'P0020041', 'P0020042', 'P0020043', 'P0020044',\n",
       "       'P0020045', 'P0020046', 'P0020047', 'P0020048', 'P0020049', 'P0020050',\n",
       "       'P0020051', 'P0020052', 'P0020053', 'P0020054', 'P0020055', 'P0020056',\n",
       "       'P0020057', 'P0020058', 'P0020059', 'P0020060', 'P0020061', 'P0020062',\n",
       "       'P0020063', 'P0020064', 'P0020065', 'P0020066', 'P0020067', 'P0020068',\n",
       "       'P0020069', 'P0020070', 'P0020071', 'P0020072', 'P0020073', 'CD'],\n",
       "      dtype='object')"
      ]
     },
     "execution_count": 84,
     "metadata": {},
     "output_type": "execute_result"
    }
   ],
   "source": [
    "repaired_election_df.columns"
   ]
  },
  {
   "cell_type": "code",
   "execution_count": 85,
   "id": "43292671",
   "metadata": {},
   "outputs": [],
   "source": [
    "rename_dict = {'P0020001': 'TOTPOP',\n",
    "               'P0020002': 'HISP',\n",
    "               'P0020005': 'NH_WHITE',\n",
    "               'P0020006': 'NH_BLACK',\n",
    "               'P0020007': 'NH_AMIN',\n",
    "               'P0020008': 'NH_ASIAN',\n",
    "               'P0020009': 'NH_NHPI',\n",
    "               'P0020010': 'NH_OTHER',\n",
    "               'P0020011': 'NH_2MORE',\n",
    "               'G20PREDBID': 'G20PRED',\n",
    "               'G20PRERTRU': 'G20PRER',\n",
    "               'G20USSDHIC': 'G20USSD', \n",
    "               'G20USSRGAR': 'G20USSR'}"
   ]
  },
  {
   "cell_type": "code",
   "execution_count": 88,
   "id": "5fa7aebf",
   "metadata": {},
   "outputs": [],
   "source": [
    "clean_election_df = repaired_election_df.rename(columns=rename_dict)\n",
    "clean_election_df.drop(columns=[\n",
    "       'G20PRELJOR', 'G20PREGHAW', 'G20PRECBLA', 'G20PREUWES',\n",
    "       'G20PREOOTH', 'G20USSLDOA','G20USSODOY','G20USSOEVA',\n",
    "       'G20USSOWRI', \n",
    "       'P0020003', 'P0020004', 'P0020012', 'P0020013', 'P0020014',\n",
    "       'P0020015', 'P0020016', 'P0020017', 'P0020018', 'P0020019', 'P0020020',\n",
    "       'P0020021', 'P0020022', 'P0020023', 'P0020024', 'P0020025', 'P0020026',\n",
    "       'P0020027', 'P0020028', 'P0020029', 'P0020030', 'P0020031', 'P0020032',\n",
    "       'P0020033', 'P0020034', 'P0020035', 'P0020036', 'P0020037', 'P0020038',\n",
    "       'P0020039', 'P0020040', 'P0020041', 'P0020042', 'P0020043', 'P0020044',\n",
    "       'P0020045', 'P0020046', 'P0020047', 'P0020048', 'P0020049', 'P0020050',\n",
    "       'P0020051', 'P0020052', 'P0020053', 'P0020054', 'P0020055', 'P0020056',\n",
    "       'P0020057', 'P0020058', 'P0020059', 'P0020060', 'P0020061', 'P0020062',\n",
    "       'P0020063', 'P0020064', 'P0020065', 'P0020066', 'P0020067', 'P0020068',\n",
    "       'P0020069', 'P0020070', 'P0020071', 'P0020072', 'P0020073'], inplace=True)"
   ]
  },
  {
   "cell_type": "code",
   "execution_count": 89,
   "id": "c8663d5d",
   "metadata": {},
   "outputs": [
    {
     "data": {
      "text/html": [
       "<div>\n",
       "<style scoped>\n",
       "    .dataframe tbody tr th:only-of-type {\n",
       "        vertical-align: middle;\n",
       "    }\n",
       "\n",
       "    .dataframe tbody tr th {\n",
       "        vertical-align: top;\n",
       "    }\n",
       "\n",
       "    .dataframe thead th {\n",
       "        text-align: right;\n",
       "    }\n",
       "</style>\n",
       "<table border=\"1\" class=\"dataframe\">\n",
       "  <thead>\n",
       "    <tr style=\"text-align: right;\">\n",
       "      <th></th>\n",
       "      <th>STATEFP</th>\n",
       "      <th>COUNTYFP</th>\n",
       "      <th>VTDST</th>\n",
       "      <th>NAME</th>\n",
       "      <th>PRECINCT</th>\n",
       "      <th>G20PRED</th>\n",
       "      <th>G20PRER</th>\n",
       "      <th>G20USSD</th>\n",
       "      <th>G20USSR</th>\n",
       "      <th>geometry</th>\n",
       "      <th>TOTPOP</th>\n",
       "      <th>HISP</th>\n",
       "      <th>NH_WHITE</th>\n",
       "      <th>NH_BLACK</th>\n",
       "      <th>NH_AMIN</th>\n",
       "      <th>NH_ASIAN</th>\n",
       "      <th>NH_NHPI</th>\n",
       "      <th>NH_OTHER</th>\n",
       "      <th>NH_2MORE</th>\n",
       "      <th>CD</th>\n",
       "    </tr>\n",
       "  </thead>\n",
       "  <tbody>\n",
       "    <tr>\n",
       "      <th>0</th>\n",
       "      <td>08</td>\n",
       "      <td>001</td>\n",
       "      <td>001226</td>\n",
       "      <td>Adams 226</td>\n",
       "      <td>6253001226</td>\n",
       "      <td>60</td>\n",
       "      <td>128</td>\n",
       "      <td>60</td>\n",
       "      <td>131</td>\n",
       "      <td>POLYGON ((527454.509 4424739.321, 527457.779 4...</td>\n",
       "      <td>368.0</td>\n",
       "      <td>141.0</td>\n",
       "      <td>204.0</td>\n",
       "      <td>0.0</td>\n",
       "      <td>1.0</td>\n",
       "      <td>12.0</td>\n",
       "      <td>0.0</td>\n",
       "      <td>0.0</td>\n",
       "      <td>10.0</td>\n",
       "      <td>8</td>\n",
       "    </tr>\n",
       "    <tr>\n",
       "      <th>1</th>\n",
       "      <td>08</td>\n",
       "      <td>001</td>\n",
       "      <td>001092</td>\n",
       "      <td>Adams 092</td>\n",
       "      <td>7243401092</td>\n",
       "      <td>653</td>\n",
       "      <td>579</td>\n",
       "      <td>649</td>\n",
       "      <td>572</td>\n",
       "      <td>POLYGON ((502806.421 4418210.473, 502809.065 4...</td>\n",
       "      <td>2349.0</td>\n",
       "      <td>796.0</td>\n",
       "      <td>1304.0</td>\n",
       "      <td>17.0</td>\n",
       "      <td>14.0</td>\n",
       "      <td>60.0</td>\n",
       "      <td>7.0</td>\n",
       "      <td>13.0</td>\n",
       "      <td>138.0</td>\n",
       "      <td>8</td>\n",
       "    </tr>\n",
       "    <tr>\n",
       "      <th>2</th>\n",
       "      <td>08</td>\n",
       "      <td>001</td>\n",
       "      <td>001089</td>\n",
       "      <td>Adams 089</td>\n",
       "      <td>7243101089</td>\n",
       "      <td>666</td>\n",
       "      <td>454</td>\n",
       "      <td>645</td>\n",
       "      <td>469</td>\n",
       "      <td>POLYGON ((504093.002 4419009.995, 504233.723 4...</td>\n",
       "      <td>2369.0</td>\n",
       "      <td>651.0</td>\n",
       "      <td>1360.0</td>\n",
       "      <td>68.0</td>\n",
       "      <td>17.0</td>\n",
       "      <td>128.0</td>\n",
       "      <td>1.0</td>\n",
       "      <td>17.0</td>\n",
       "      <td>127.0</td>\n",
       "      <td>8</td>\n",
       "    </tr>\n",
       "    <tr>\n",
       "      <th>3</th>\n",
       "      <td>08</td>\n",
       "      <td>001</td>\n",
       "      <td>001087</td>\n",
       "      <td>Adams 087</td>\n",
       "      <td>7243401087</td>\n",
       "      <td>690</td>\n",
       "      <td>467</td>\n",
       "      <td>668</td>\n",
       "      <td>475</td>\n",
       "      <td>POLYGON ((501149.558 4418223.587, 501149.558 4...</td>\n",
       "      <td>3273.0</td>\n",
       "      <td>972.0</td>\n",
       "      <td>1884.0</td>\n",
       "      <td>87.0</td>\n",
       "      <td>27.0</td>\n",
       "      <td>103.0</td>\n",
       "      <td>12.0</td>\n",
       "      <td>26.0</td>\n",
       "      <td>162.0</td>\n",
       "      <td>8</td>\n",
       "    </tr>\n",
       "    <tr>\n",
       "      <th>4</th>\n",
       "      <td>08</td>\n",
       "      <td>001</td>\n",
       "      <td>001088</td>\n",
       "      <td>Adams 088</td>\n",
       "      <td>7243101088</td>\n",
       "      <td>706</td>\n",
       "      <td>516</td>\n",
       "      <td>695</td>\n",
       "      <td>543</td>\n",
       "      <td>POLYGON ((503472.879 4419270.698, 503469.932 4...</td>\n",
       "      <td>1880.0</td>\n",
       "      <td>406.0</td>\n",
       "      <td>1274.0</td>\n",
       "      <td>26.0</td>\n",
       "      <td>15.0</td>\n",
       "      <td>80.0</td>\n",
       "      <td>0.0</td>\n",
       "      <td>4.0</td>\n",
       "      <td>75.0</td>\n",
       "      <td>8</td>\n",
       "    </tr>\n",
       "    <tr>\n",
       "      <th>...</th>\n",
       "      <td>...</td>\n",
       "      <td>...</td>\n",
       "      <td>...</td>\n",
       "      <td>...</td>\n",
       "      <td>...</td>\n",
       "      <td>...</td>\n",
       "      <td>...</td>\n",
       "      <td>...</td>\n",
       "      <td>...</td>\n",
       "      <td>...</td>\n",
       "      <td>...</td>\n",
       "      <td>...</td>\n",
       "      <td>...</td>\n",
       "      <td>...</td>\n",
       "      <td>...</td>\n",
       "      <td>...</td>\n",
       "      <td>...</td>\n",
       "      <td>...</td>\n",
       "      <td>...</td>\n",
       "      <td>...</td>\n",
       "    </tr>\n",
       "    <tr>\n",
       "      <th>3210</th>\n",
       "      <td>08</td>\n",
       "      <td>001</td>\n",
       "      <td>001003</td>\n",
       "      <td>Adams 003</td>\n",
       "      <td>7213201003</td>\n",
       "      <td>646</td>\n",
       "      <td>222</td>\n",
       "      <td>622</td>\n",
       "      <td>227</td>\n",
       "      <td>POLYGON ((499536.562 4406566.492, 499477.256 4...</td>\n",
       "      <td>2966.0</td>\n",
       "      <td>792.0</td>\n",
       "      <td>1793.0</td>\n",
       "      <td>48.0</td>\n",
       "      <td>19.0</td>\n",
       "      <td>184.0</td>\n",
       "      <td>8.0</td>\n",
       "      <td>2.0</td>\n",
       "      <td>120.0</td>\n",
       "      <td>8</td>\n",
       "    </tr>\n",
       "    <tr>\n",
       "      <th>3211</th>\n",
       "      <td>08</td>\n",
       "      <td>087</td>\n",
       "      <td>087001</td>\n",
       "      <td>Morgan 001</td>\n",
       "      <td>4016544001</td>\n",
       "      <td>166</td>\n",
       "      <td>773</td>\n",
       "      <td>163</td>\n",
       "      <td>777</td>\n",
       "      <td>POLYGON ((572293.044 4455849.658, 572282.570 4...</td>\n",
       "      <td>NaN</td>\n",
       "      <td>NaN</td>\n",
       "      <td>NaN</td>\n",
       "      <td>NaN</td>\n",
       "      <td>NaN</td>\n",
       "      <td>NaN</td>\n",
       "      <td>NaN</td>\n",
       "      <td>NaN</td>\n",
       "      <td>NaN</td>\n",
       "      <td>4</td>\n",
       "    </tr>\n",
       "    <tr>\n",
       "      <th>3212</th>\n",
       "      <td>08</td>\n",
       "      <td>087</td>\n",
       "      <td>087018</td>\n",
       "      <td>Morgan 018</td>\n",
       "      <td>4016544018</td>\n",
       "      <td>168</td>\n",
       "      <td>735</td>\n",
       "      <td>164</td>\n",
       "      <td>740</td>\n",
       "      <td>POLYGON ((585138.310 4428351.576, 585128.407 4...</td>\n",
       "      <td>3237.0</td>\n",
       "      <td>642.0</td>\n",
       "      <td>2422.0</td>\n",
       "      <td>21.0</td>\n",
       "      <td>12.0</td>\n",
       "      <td>14.0</td>\n",
       "      <td>0.0</td>\n",
       "      <td>12.0</td>\n",
       "      <td>114.0</td>\n",
       "      <td>4</td>\n",
       "    </tr>\n",
       "    <tr>\n",
       "      <th>3213</th>\n",
       "      <td>08</td>\n",
       "      <td>087</td>\n",
       "      <td>087004</td>\n",
       "      <td>Morgan 004</td>\n",
       "      <td>4016544004</td>\n",
       "      <td>170</td>\n",
       "      <td>687</td>\n",
       "      <td>155</td>\n",
       "      <td>696</td>\n",
       "      <td>POLYGON ((603073.265 4428600.299, 603038.696 4...</td>\n",
       "      <td>1475.0</td>\n",
       "      <td>387.0</td>\n",
       "      <td>1032.0</td>\n",
       "      <td>10.0</td>\n",
       "      <td>5.0</td>\n",
       "      <td>6.0</td>\n",
       "      <td>1.0</td>\n",
       "      <td>7.0</td>\n",
       "      <td>27.0</td>\n",
       "      <td>4</td>\n",
       "    </tr>\n",
       "    <tr>\n",
       "      <th>3214</th>\n",
       "      <td>08</td>\n",
       "      <td>123</td>\n",
       "      <td>123312</td>\n",
       "      <td>Weld 312</td>\n",
       "      <td>4016362312</td>\n",
       "      <td>85</td>\n",
       "      <td>423</td>\n",
       "      <td>84</td>\n",
       "      <td>426</td>\n",
       "      <td>POLYGON ((567511.005 4428148.862, 566642.862 4...</td>\n",
       "      <td>888.0</td>\n",
       "      <td>153.0</td>\n",
       "      <td>688.0</td>\n",
       "      <td>2.0</td>\n",
       "      <td>1.0</td>\n",
       "      <td>3.0</td>\n",
       "      <td>0.0</td>\n",
       "      <td>8.0</td>\n",
       "      <td>33.0</td>\n",
       "      <td>4</td>\n",
       "    </tr>\n",
       "  </tbody>\n",
       "</table>\n",
       "<p>3215 rows × 20 columns</p>\n",
       "</div>"
      ],
      "text/plain": [
       "     STATEFP COUNTYFP   VTDST        NAME    PRECINCT  G20PRED  G20PRER  \\\n",
       "0         08      001  001226   Adams 226  6253001226       60      128   \n",
       "1         08      001  001092   Adams 092  7243401092      653      579   \n",
       "2         08      001  001089   Adams 089  7243101089      666      454   \n",
       "3         08      001  001087   Adams 087  7243401087      690      467   \n",
       "4         08      001  001088   Adams 088  7243101088      706      516   \n",
       "...      ...      ...     ...         ...         ...      ...      ...   \n",
       "3210      08      001  001003   Adams 003  7213201003      646      222   \n",
       "3211      08      087  087001  Morgan 001  4016544001      166      773   \n",
       "3212      08      087  087018  Morgan 018  4016544018      168      735   \n",
       "3213      08      087  087004  Morgan 004  4016544004      170      687   \n",
       "3214      08      123  123312    Weld 312  4016362312       85      423   \n",
       "\n",
       "      G20USSD  G20USSR                                           geometry  \\\n",
       "0          60      131  POLYGON ((527454.509 4424739.321, 527457.779 4...   \n",
       "1         649      572  POLYGON ((502806.421 4418210.473, 502809.065 4...   \n",
       "2         645      469  POLYGON ((504093.002 4419009.995, 504233.723 4...   \n",
       "3         668      475  POLYGON ((501149.558 4418223.587, 501149.558 4...   \n",
       "4         695      543  POLYGON ((503472.879 4419270.698, 503469.932 4...   \n",
       "...       ...      ...                                                ...   \n",
       "3210      622      227  POLYGON ((499536.562 4406566.492, 499477.256 4...   \n",
       "3211      163      777  POLYGON ((572293.044 4455849.658, 572282.570 4...   \n",
       "3212      164      740  POLYGON ((585138.310 4428351.576, 585128.407 4...   \n",
       "3213      155      696  POLYGON ((603073.265 4428600.299, 603038.696 4...   \n",
       "3214       84      426  POLYGON ((567511.005 4428148.862, 566642.862 4...   \n",
       "\n",
       "      TOTPOP   HISP  NH_WHITE  NH_BLACK  NH_AMIN  NH_ASIAN  NH_NHPI  NH_OTHER  \\\n",
       "0      368.0  141.0     204.0       0.0      1.0      12.0      0.0       0.0   \n",
       "1     2349.0  796.0    1304.0      17.0     14.0      60.0      7.0      13.0   \n",
       "2     2369.0  651.0    1360.0      68.0     17.0     128.0      1.0      17.0   \n",
       "3     3273.0  972.0    1884.0      87.0     27.0     103.0     12.0      26.0   \n",
       "4     1880.0  406.0    1274.0      26.0     15.0      80.0      0.0       4.0   \n",
       "...      ...    ...       ...       ...      ...       ...      ...       ...   \n",
       "3210  2966.0  792.0    1793.0      48.0     19.0     184.0      8.0       2.0   \n",
       "3211     NaN    NaN       NaN       NaN      NaN       NaN      NaN       NaN   \n",
       "3212  3237.0  642.0    2422.0      21.0     12.0      14.0      0.0      12.0   \n",
       "3213  1475.0  387.0    1032.0      10.0      5.0       6.0      1.0       7.0   \n",
       "3214   888.0  153.0     688.0       2.0      1.0       3.0      0.0       8.0   \n",
       "\n",
       "      NH_2MORE  CD  \n",
       "0         10.0   8  \n",
       "1        138.0   8  \n",
       "2        127.0   8  \n",
       "3        162.0   8  \n",
       "4         75.0   8  \n",
       "...        ...  ..  \n",
       "3210     120.0   8  \n",
       "3211       NaN   4  \n",
       "3212     114.0   4  \n",
       "3213      27.0   4  \n",
       "3214      33.0   4  \n",
       "\n",
       "[3215 rows x 20 columns]"
      ]
     },
     "execution_count": 89,
     "metadata": {},
     "output_type": "execute_result"
    }
   ],
   "source": [
    "clean_election_df"
   ]
  },
  {
   "cell_type": "code",
   "execution_count": 90,
   "id": "92ec984a",
   "metadata": {},
   "outputs": [
    {
     "data": {
      "text/plain": [
       "<Axes: >"
      ]
     },
     "execution_count": 90,
     "metadata": {},
     "output_type": "execute_result"
    },
    {
     "data": {
      "image/png": "[encoded data removed]",
      "text/plain": [
       "<Figure size 640x480 with 1 Axes>"
      ]
     },
     "metadata": {},
     "output_type": "display_data"
    }
   ],
   "source": [
    "clean_election_df.plot()"
   ]
  },
  {
   "cell_type": "code",
   "execution_count": 93,
   "id": "29e7f3e9",
   "metadata": {},
   "outputs": [
    {
     "data": {
      "text/plain": [
       "[720658.0,\n",
       " 725183.0,\n",
       " 725508.0,\n",
       " 722793.0,\n",
       " 722130.0,\n",
       " 722266.0,\n",
       " 722425.0,\n",
       " 712751.0]"
      ]
     },
     "execution_count": 93,
     "metadata": {},
     "output_type": "execute_result"
    }
   ],
   "source": [
    "pop_vals = [clean_election_df.loc[clean_election_df[\"CD\"] == n, \"TOTPOP\"].sum() for n in range(1, 9)]\n",
    "pop_vals"
   ]
  },
  {
   "cell_type": "code",
   "execution_count": 95,
   "id": "d93994f6",
   "metadata": {},
   "outputs": [],
   "source": [
    "clean_election_df.to_file(\"./data/cleaned/CO.shp\")\n",
    "shp_file = gpd.read_file(\"./data/cleaned/CO.shp\")\n",
    "shp_file.to_file('./data/cleaned/CO.geojson', driver='GeoJSON')"
   ]
  },
  {
   "cell_type": "code",
   "execution_count": null,
   "id": "1ada1cbb",
   "metadata": {},
   "outputs": [],
   "source": []
  }
 ],
 "metadata": {
  "kernelspec": {
   "display_name": "gerry",
   "language": "python",
   "name": "gerry"
  },
  "language_info": {
   "codemirror_mode": {
    "name": "ipython",
    "version": 3
   },
   "file_extension": ".py",
   "mimetype": "text/x-python",
   "name": "python",
   "nbconvert_exporter": "python",
   "pygments_lexer": "ipython3",
   "version": "3.11.5"
  }
 },
 "nbformat": 4,
 "nbformat_minor": 5
}
