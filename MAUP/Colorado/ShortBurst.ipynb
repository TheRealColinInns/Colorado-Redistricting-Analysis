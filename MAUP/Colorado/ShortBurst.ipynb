{
 "cells": [
  {
   "cell_type": "markdown",
   "id": "6a2110e7-ec4c-41b7-af67-b182272b9fc0",
   "metadata": {},
   "source": [
    "Code from https://github.com/vrdi/shortbursts-gingles/blob/main/state_experiments/sb_runs.py"
   ]
  },
  {
   "cell_type": "code",
   "execution_count": 1,
   "id": "b4feb91c-b646-4285-97a0-4365e62e44fd",
   "metadata": {},
   "outputs": [],
   "source": [
    "from gingleator import Gingleator\n",
    "\n",
    "import pandas as pd\n",
    "import geopandas as gpd\n",
    "import maup\n",
    "import time\n",
    "import numpy\n",
    "\n",
    "import matplotlib.pyplot as plt\n",
    "from gerrychain import Graph, Partition, proposals, updaters, constraints, accept, MarkovChain, Election\n",
    "from gerrychain.updaters import cut_edges, Tally\n",
    "from gerrychain.proposals import recom\n",
    "from functools import partial"
   ]
  },
  {
   "cell_type": "code",
   "execution_count": 2,
   "id": "e021eaac-d448-462e-8439-903eaff9c654",
   "metadata": {},
   "outputs": [],
   "source": [
    "score_functs = {0: None, 1: Gingleator.reward_partial_dist, \n",
    "                2: Gingleator.reward_next_highest_close,\n",
    "                3: Gingleator.penalize_maximum_over,\n",
    "                4: Gingleator.penalize_avg_over}"
   ]
  },
  {
   "cell_type": "code",
   "execution_count": 3,
   "id": "95437b4c-349a-48b4-a382-a3c7bd12d88c",
   "metadata": {},
   "outputs": [],
   "source": [
    "BURST_LEN = 10\n",
    "NUM_DISTRICTS = 8\n",
    "ITERS = 100\n",
    "POP_COL = \"TOTPOP20\"\n",
    "N_SAMPS = 10\n",
    "SCORE_FUNCT = None\n",
    "EPS = 0.045\n",
    "MIN_POP_COL = 'HISP'"
   ]
  },
  {
   "cell_type": "code",
   "execution_count": 4,
   "id": "4b256fb2-6669-4ba0-9b2e-2776680f34c4",
   "metadata": {},
   "outputs": [],
   "source": [
    "graph = Graph.from_file('./data/cleaned/final data/CO.shp')"
   ]
  },
  {
   "cell_type": "code",
   "execution_count": 5,
   "id": "4c69e930-237c-49cb-93ac-19f7a596dbdf",
   "metadata": {},
   "outputs": [
    {
     "data": {
      "text/plain": [
       "{'boundary_node': False,\n",
       " 'area': 39373310.67444259,\n",
       " 'STATEFP': '08',\n",
       " 'COUNTYFP': '001',\n",
       " 'VTDST': '001226',\n",
       " 'NAME': 'Adams 226',\n",
       " 'PRECINCT': '6253001226',\n",
       " 'PRES20D': 60,\n",
       " 'PRES20R': 128,\n",
       " 'SEN20D': 60,\n",
       " 'SEN20R': 131,\n",
       " 'TOTPOP20': 368,\n",
       " 'VAP20': 285,\n",
       " 'PRES16D': 59.0,\n",
       " 'PRES16R': 110.0,\n",
       " 'SEN16D': 72.0,\n",
       " 'SEN16R': 97.0,\n",
       " 'GOV18D': 52.0,\n",
       " 'GOV18R': 80.0,\n",
       " 'ATG18D': 50.0,\n",
       " 'ATG18R': 83.0,\n",
       " 'SOS18D': 52.0,\n",
       " 'SOS18R': 80.0,\n",
       " 'TRE18D': 51.0,\n",
       " 'TRE18R': 76.0,\n",
       " 'HISP': 141,\n",
       " 'NH_WHITE': 204,\n",
       " 'NH_BLACK': 0,\n",
       " 'NH_AMIN': 1,\n",
       " 'NH_ASIAN': 12,\n",
       " 'NH_NHPI': 0,\n",
       " 'NH_OTHER': 0,\n",
       " 'NH_2MORE': 10,\n",
       " 'CD': 8,\n",
       " 'geometry': <POLYGON ((527454.509 4424739.321, 527457.779 4424663.821, 527457.48 4424594...>}"
      ]
     },
     "execution_count": 5,
     "metadata": {},
     "output_type": "execute_result"
    }
   ],
   "source": [
    "graph.nodes[0]"
   ]
  },
  {
   "cell_type": "code",
   "execution_count": 6,
   "id": "43b10ef6-575c-400e-9ad4-37c6ebf72a0b",
   "metadata": {},
   "outputs": [],
   "source": [
    "my_updaters = {\"population\" : Tally(POP_COL, alias=\"population\"),\n",
    "               \"VAP\": Tally(\"VAP\"),\n",
    "               \"BVAP\": Tally(\"BVAP\"),\n",
    "               \"HVAP\": Tally(\"HVAP\"),\n",
    "               \"WVAP\": Tally(\"WVAP\"),\n",
    "               \"nWVAP\": lambda p: {k: v - p[\"WVAP\"][k] for k,v in p[\"VAP\"].items()},\n",
    "               \"cut_edges\": cut_edges}"
   ]
  },
  {
   "cell_type": "code",
   "execution_count": 7,
   "id": "a199a74a-6335-4a01-afe2-696b2b356617",
   "metadata": {},
   "outputs": [],
   "source": [
    "total_pop = sum([graph.nodes()[n][POP_COL] for n in graph.nodes()])"
   ]
  },
  {
   "cell_type": "code",
   "execution_count": 8,
   "id": "b4ca7064-a2b0-4951-b0b8-c2ac84a52b63",
   "metadata": {},
   "outputs": [
    {
     "name": "stdout",
     "output_type": "stream",
     "text": [
      "HISP_perc\n"
     ]
    }
   ],
   "source": [
    "init_partition = Partition(graph, assignment=\"CD\", updaters=my_updaters)\n",
    "\n",
    "gingles = Gingleator(init_partition, pop_col=POP_COL,\n",
    "                     threshold=0.5, score_funct=SCORE_FUNCT, epsilon=EPS,\n",
    "                     minority_perc_col=\"{}_perc\".format(MIN_POP_COL))\n",
    "\n",
    "gingles.init_minority_perc_col(MIN_POP_COL, \"VAP\", \n",
    "                               \"{}_perc\".format(MIN_POP_COL))"
   ]
  },
  {
   "cell_type": "code",
   "execution_count": 9,
   "id": "b3997029-764f-4d39-a4d7-765f7230f0b8",
   "metadata": {},
   "outputs": [
    {
     "name": "stdout",
     "output_type": "stream",
     "text": [
      "Starting Short Bursts Runs\n"
     ]
    },
    {
     "ename": "KeyError",
     "evalue": "'HISP'",
     "output_type": "error",
     "traceback": [
      "\u001b[0;31m---------------------------------------------------------------------------\u001b[0m",
      "\u001b[0;31mKeyError\u001b[0m                                  Traceback (most recent call last)",
      "Cell \u001b[0;32mIn[9], line 6\u001b[0m\n\u001b[1;32m      3\u001b[0m \u001b[38;5;28mprint\u001b[39m(\u001b[38;5;124m\"\u001b[39m\u001b[38;5;124mStarting Short Bursts Runs\u001b[39m\u001b[38;5;124m\"\u001b[39m, flush\u001b[38;5;241m=\u001b[39m\u001b[38;5;28;01mTrue\u001b[39;00m)\n\u001b[1;32m      5\u001b[0m \u001b[38;5;28;01mfor\u001b[39;00m n \u001b[38;5;129;01min\u001b[39;00m \u001b[38;5;28mrange\u001b[39m(N_SAMPS):\n\u001b[0;32m----> 6\u001b[0m     sb_obs \u001b[38;5;241m=\u001b[39m gingles\u001b[38;5;241m.\u001b[39mshort_burst_run(num_bursts\u001b[38;5;241m=\u001b[39mnum_bursts, num_steps\u001b[38;5;241m=\u001b[39mBURST_LEN,\n\u001b[1;32m      7\u001b[0m                                      maximize\u001b[38;5;241m=\u001b[39m\u001b[38;5;28;01mTrue\u001b[39;00m, verbose\u001b[38;5;241m=\u001b[39m\u001b[38;5;28;01mFalse\u001b[39;00m)\n\u001b[1;32m      8\u001b[0m     \u001b[38;5;28mprint\u001b[39m(\u001b[38;5;124m\"\u001b[39m\u001b[38;5;130;01m\\t\u001b[39;00m\u001b[38;5;124mFinished chain \u001b[39m\u001b[38;5;132;01m{}\u001b[39;00m\u001b[38;5;124m\"\u001b[39m\u001b[38;5;241m.\u001b[39mformat(n), flush\u001b[38;5;241m=\u001b[39m\u001b[38;5;28;01mTrue\u001b[39;00m)\n\u001b[1;32m     10\u001b[0m     \u001b[38;5;28mprint\u001b[39m(\u001b[38;5;124m\"\u001b[39m\u001b[38;5;130;01m\\t\u001b[39;00m\u001b[38;5;124mSaving results\u001b[39m\u001b[38;5;124m\"\u001b[39m, flush\u001b[38;5;241m=\u001b[39m\u001b[38;5;28;01mTrue\u001b[39;00m)\n",
      "File \u001b[0;32m~/Documents/School/USF/MSCS/Redistricting/Final/Colorado-Redistricting-Analysis/MAUP/Colorado/gingleator.py:78\u001b[0m, in \u001b[0;36mGingleator.short_burst_run\u001b[0;34m(self, num_bursts, num_steps, verbose, maximize, tracking_fun)\u001b[0m\n\u001b[1;32m     76\u001b[0m \u001b[38;5;28;01mdef\u001b[39;00m \u001b[38;5;21mshort_burst_run\u001b[39m(\u001b[38;5;28mself\u001b[39m, num_bursts, num_steps, verbose\u001b[38;5;241m=\u001b[39m\u001b[38;5;28;01mFalse\u001b[39;00m,\n\u001b[1;32m     77\u001b[0m                     maximize\u001b[38;5;241m=\u001b[39m\u001b[38;5;28;01mTrue\u001b[39;00m, tracking_fun\u001b[38;5;241m=\u001b[39m\u001b[38;5;28;01mNone\u001b[39;00m): \u001b[38;5;66;03m#checkpoint_file=None):\u001b[39;00m\n\u001b[0;32m---> 78\u001b[0m     max_part \u001b[38;5;241m=\u001b[39m (\u001b[38;5;28mself\u001b[39m\u001b[38;5;241m.\u001b[39mpart, \u001b[38;5;28mself\u001b[39m\u001b[38;5;241m.\u001b[39mscore(\u001b[38;5;28mself\u001b[39m\u001b[38;5;241m.\u001b[39mpart, \u001b[38;5;28mself\u001b[39m\u001b[38;5;241m.\u001b[39mminority_perc,\n\u001b[1;32m     79\u001b[0m                 \u001b[38;5;28mself\u001b[39m\u001b[38;5;241m.\u001b[39mthreshold)) \n\u001b[1;32m     80\u001b[0m \u001b[38;5;250m    \u001b[39m\u001b[38;5;124;03m\"\"\"\u001b[39;00m\n\u001b[1;32m     81\u001b[0m \u001b[38;5;124;03m    short_burst_run: preforms a short burst run using the instance's score function.\u001b[39;00m\n\u001b[1;32m     82\u001b[0m \u001b[38;5;124;03m                     Each burst starts at the best preforming plan of the previous\u001b[39;00m\n\u001b[0;32m   (...)\u001b[0m\n\u001b[1;32m     90\u001b[0m \u001b[38;5;124;03m        tracking_fun: Function to save information about each observed plan.\u001b[39;00m\n\u001b[1;32m     91\u001b[0m \u001b[38;5;124;03m    \"\"\"\u001b[39;00m\n\u001b[1;32m     92\u001b[0m     observed_num_ops \u001b[38;5;241m=\u001b[39m np\u001b[38;5;241m.\u001b[39mzeros((num_bursts, num_steps))\n",
      "File \u001b[0;32m~/Documents/School/USF/MSCS/Redistricting/Final/Colorado-Redistricting-Analysis/MAUP/Colorado/gingleator.py:249\u001b[0m, in \u001b[0;36mGingleator.num_opportunity_dists\u001b[0;34m(cls, part, minority_perc, threshold)\u001b[0m\n\u001b[1;32m    243\u001b[0m \u001b[38;5;129m@classmethod\u001b[39m\n\u001b[1;32m    244\u001b[0m \u001b[38;5;28;01mdef\u001b[39;00m \u001b[38;5;21mnum_opportunity_dists\u001b[39m(\u001b[38;5;28mcls\u001b[39m, part, minority_perc, threshold):\n\u001b[1;32m    245\u001b[0m \u001b[38;5;250m    \u001b[39m\u001b[38;5;124;03m\"\"\"\u001b[39;00m\n\u001b[1;32m    246\u001b[0m \u001b[38;5;124;03m    num_opportunity_dists: given a partition, name of the minority percent updater, and a\u001b[39;00m\n\u001b[1;32m    247\u001b[0m \u001b[38;5;124;03m                           threshold, returns the number of opportunity districts.\u001b[39;00m\n\u001b[1;32m    248\u001b[0m \u001b[38;5;124;03m    \"\"\"\u001b[39;00m\n\u001b[0;32m--> 249\u001b[0m     dist_precs \u001b[38;5;241m=\u001b[39m part[minority_perc]\u001b[38;5;241m.\u001b[39mvalues()\n\u001b[1;32m    250\u001b[0m     \u001b[38;5;28;01mreturn\u001b[39;00m \u001b[38;5;28msum\u001b[39m(\u001b[38;5;28mlist\u001b[39m(\u001b[38;5;28mmap\u001b[39m(\u001b[38;5;28;01mlambda\u001b[39;00m v: v \u001b[38;5;241m>\u001b[39m\u001b[38;5;241m=\u001b[39m threshold, dist_precs)))\n",
      "File \u001b[0;32m/opt/anaconda3/envs/gerry_final/lib/python3.12/site-packages/gerrychain/partition/partition.py:135\u001b[0m, in \u001b[0;36mPartition.__getitem__\u001b[0;34m(self, key)\u001b[0m\n\u001b[1;32m    129\u001b[0m \u001b[38;5;250m\u001b[39m\u001b[38;5;124;03m\"\"\"Allows accessing the values of updaters computed for this\u001b[39;00m\n\u001b[1;32m    130\u001b[0m \u001b[38;5;124;03mPartition instance.\u001b[39;00m\n\u001b[1;32m    131\u001b[0m \n\u001b[1;32m    132\u001b[0m \u001b[38;5;124;03m:param key: Property to access.\u001b[39;00m\n\u001b[1;32m    133\u001b[0m \u001b[38;5;124;03m\"\"\"\u001b[39;00m\n\u001b[1;32m    134\u001b[0m \u001b[38;5;28;01mif\u001b[39;00m key \u001b[38;5;129;01mnot\u001b[39;00m \u001b[38;5;129;01min\u001b[39;00m \u001b[38;5;28mself\u001b[39m\u001b[38;5;241m.\u001b[39m_cache:\n\u001b[0;32m--> 135\u001b[0m     \u001b[38;5;28mself\u001b[39m\u001b[38;5;241m.\u001b[39m_cache[key] \u001b[38;5;241m=\u001b[39m \u001b[38;5;28mself\u001b[39m\u001b[38;5;241m.\u001b[39mupdaters[key](\u001b[38;5;28mself\u001b[39m)\n\u001b[1;32m    136\u001b[0m \u001b[38;5;28;01mreturn\u001b[39;00m \u001b[38;5;28mself\u001b[39m\u001b[38;5;241m.\u001b[39m_cache[key]\n",
      "File \u001b[0;32m~/Documents/School/USF/MSCS/Redistricting/Final/Colorado-Redistricting-Analysis/MAUP/Colorado/gingleator.py:65\u001b[0m, in \u001b[0;36mGingleator.init_minority_perc_col.<locals>.<lambda>\u001b[0;34m(part)\u001b[0m\n\u001b[1;32m     56\u001b[0m \u001b[38;5;28;01mdef\u001b[39;00m \u001b[38;5;21minit_minority_perc_col\u001b[39m(\u001b[38;5;28mself\u001b[39m, minority_pop_col, total_pop_col,\n\u001b[1;32m     57\u001b[0m                            minority_perc_col):\n\u001b[1;32m     58\u001b[0m \u001b[38;5;250m    \u001b[39m\u001b[38;5;124;03m\"\"\"\u001b[39;00m\n\u001b[1;32m     59\u001b[0m \u001b[38;5;124;03m     init_minority_prec_col takes the string corresponding to the minority\u001b[39;00m\n\u001b[1;32m     60\u001b[0m \u001b[38;5;124;03m     population column and the total population column attributes in the \u001b[39;00m\n\u001b[1;32m     61\u001b[0m \u001b[38;5;124;03m     partition updaters as well as the desired name of the minority percent \u001b[39;00m\n\u001b[1;32m     62\u001b[0m \u001b[38;5;124;03m     column and updates the partition updaters accordingly\u001b[39;00m\n\u001b[1;32m     63\u001b[0m \u001b[38;5;124;03m    \"\"\"\u001b[39;00m\n\u001b[1;32m     64\u001b[0m     perc_up \u001b[38;5;241m=\u001b[39m {minority_perc_col:\n\u001b[0;32m---> 65\u001b[0m                \u001b[38;5;28;01mlambda\u001b[39;00m part: {k: part[minority_pop_col][k] \u001b[38;5;241m/\u001b[39m part[total_pop_col][k]\n\u001b[1;32m     66\u001b[0m                              \u001b[38;5;28;01mfor\u001b[39;00m k \u001b[38;5;129;01min\u001b[39;00m part\u001b[38;5;241m.\u001b[39mparts\u001b[38;5;241m.\u001b[39mkeys()}}\n\u001b[1;32m     67\u001b[0m     \u001b[38;5;28mself\u001b[39m\u001b[38;5;241m.\u001b[39mpart\u001b[38;5;241m.\u001b[39mupdaters\u001b[38;5;241m.\u001b[39mupdate(perc_up)\n",
      "File \u001b[0;32m/opt/anaconda3/envs/gerry_final/lib/python3.12/site-packages/gerrychain/partition/partition.py:135\u001b[0m, in \u001b[0;36mPartition.__getitem__\u001b[0;34m(self, key)\u001b[0m\n\u001b[1;32m    129\u001b[0m \u001b[38;5;250m\u001b[39m\u001b[38;5;124;03m\"\"\"Allows accessing the values of updaters computed for this\u001b[39;00m\n\u001b[1;32m    130\u001b[0m \u001b[38;5;124;03mPartition instance.\u001b[39;00m\n\u001b[1;32m    131\u001b[0m \n\u001b[1;32m    132\u001b[0m \u001b[38;5;124;03m:param key: Property to access.\u001b[39;00m\n\u001b[1;32m    133\u001b[0m \u001b[38;5;124;03m\"\"\"\u001b[39;00m\n\u001b[1;32m    134\u001b[0m \u001b[38;5;28;01mif\u001b[39;00m key \u001b[38;5;129;01mnot\u001b[39;00m \u001b[38;5;129;01min\u001b[39;00m \u001b[38;5;28mself\u001b[39m\u001b[38;5;241m.\u001b[39m_cache:\n\u001b[0;32m--> 135\u001b[0m     \u001b[38;5;28mself\u001b[39m\u001b[38;5;241m.\u001b[39m_cache[key] \u001b[38;5;241m=\u001b[39m \u001b[38;5;28mself\u001b[39m\u001b[38;5;241m.\u001b[39mupdaters[key](\u001b[38;5;28mself\u001b[39m)\n\u001b[1;32m    136\u001b[0m \u001b[38;5;28;01mreturn\u001b[39;00m \u001b[38;5;28mself\u001b[39m\u001b[38;5;241m.\u001b[39m_cache[key]\n",
      "\u001b[0;31mKeyError\u001b[0m: 'HISP'"
     ]
    }
   ],
   "source": [
    "num_bursts = int(ITERS/BURST_LEN)\n",
    "\n",
    "print(\"Starting Short Bursts Runs\", flush=True)\n",
    "\n",
    "for n in range(N_SAMPS):\n",
    "    sb_obs = gingles.short_burst_run(num_bursts=num_bursts, num_steps=BURST_LEN,\n",
    "                                     maximize=True, verbose=False)\n",
    "    print(\"\\tFinished chain {}\".format(n), flush=True)\n",
    "\n",
    "    print(\"\\tSaving results\", flush=True)\n",
    "\n",
    "    f_out = \"data/states/{}_dists{}_{}opt_{:.1%}_{}_sbl{}_score{}_{}.npy\".format(args.state,\n",
    "                                                        NUM_DISTRICTS, MIN_POP_COL, EPS, \n",
    "                                                        ITERS, BURST_LEN, args.score, n)\n",
    "    np.save(f_out, sb_obs[1])\n",
    "\n",
    "    f_out_part = \"data/states/{}_dists{}_{}opt_{:.1%}_{}_sbl{}_score{}_{}_max_part.p\".format(args.state,\n",
    "                                                        NUM_DISTRICTS, MIN_POP_COL, EPS, \n",
    "                                                        ITERS, BURST_LEN, args.score, n)\n",
    "\n",
    "    max_stats = {\"VAP\": sb_obs[0][0][\"VAP\"],\n",
    "                 \"BVAP\": sb_obs[0][0][\"BVAP\"],\n",
    "                 \"WVAP\": sb_obs[0][0][\"WVAP\"],\n",
    "                 \"HVAP\": sb_obs[0][0][\"HVAP\"],}\n",
    "\n",
    "    with open(f_out_part, \"wb\") as f_out:\n",
    "        pickle.dump(max_stats, f_out)"
   ]
  },
  {
   "cell_type": "code",
   "execution_count": 10,
   "id": "feddb045-1f94-4e49-bee8-a105093abc09",
   "metadata": {},
   "outputs": [
    {
     "data": {
      "text/plain": [
       "'HISP_perc'"
      ]
     },
     "execution_count": 10,
     "metadata": {},
     "output_type": "execute_result"
    }
   ],
   "source": [
    "\"{}_perc\".format(MIN_POP_COL)"
   ]
  },
  {
   "cell_type": "code",
   "execution_count": null,
   "id": "401067ad-4007-4594-a885-dfceff9ae0e0",
   "metadata": {},
   "outputs": [],
   "source": []
  }
 ],
 "metadata": {
  "kernelspec": {
   "display_name": "Python 3 (ipykernel)",
   "language": "python",
   "name": "python3"
  },
  "language_info": {
   "codemirror_mode": {
    "name": "ipython",
    "version": 3
   },
   "file_extension": ".py",
   "mimetype": "text/x-python",
   "name": "python",
   "nbconvert_exporter": "python",
   "pygments_lexer": "ipython3",
   "version": "3.12.2"
  }
 },
 "nbformat": 4,
 "nbformat_minor": 5
}
