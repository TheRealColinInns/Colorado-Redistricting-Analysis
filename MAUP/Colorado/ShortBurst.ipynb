{
 "cells": [
  {
   "cell_type": "markdown",
   "id": "6a2110e7-ec4c-41b7-af67-b182272b9fc0",
   "metadata": {},
   "source": [
    "Code from https://github.com/vrdi/shortbursts-gingles/blob/main/state_experiments/sb_runs.py"
   ]
  },
  {
   "cell_type": "code",
   "execution_count": 34,
   "id": "b4feb91c-b646-4285-97a0-4365e62e44fd",
   "metadata": {},
   "outputs": [],
   "source": [
    "from gingleator import Gingleator\n",
    "\n",
    "import pandas as pd\n",
    "import geopandas as gpd\n",
    "import maup\n",
    "import time\n",
    "import numpy as np\n",
    "import pickle\n",
    "\n",
    "import matplotlib.pyplot as plt\n",
    "from gerrychain import Graph, Partition, proposals, updaters, constraints, accept, MarkovChain, Election\n",
    "from gerrychain.updaters import cut_edges, Tally\n",
    "from gerrychain.proposals import recom\n",
    "from functools import partial"
   ]
  },
  {
   "cell_type": "code",
   "execution_count": 21,
   "id": "e021eaac-d448-462e-8439-903eaff9c654",
   "metadata": {},
   "outputs": [],
   "source": [
    "score_functs = {0: None, 1: Gingleator.reward_partial_dist, \n",
    "                2: Gingleator.reward_next_highest_close,\n",
    "                3: Gingleator.penalize_maximum_over,\n",
    "                4: Gingleator.penalize_avg_over}"
   ]
  },
  {
   "cell_type": "code",
   "execution_count": 22,
   "id": "95437b4c-349a-48b4-a382-a3c7bd12d88c",
   "metadata": {},
   "outputs": [],
   "source": [
    "BURST_LEN = 10\n",
    "NUM_DISTRICTS = 8\n",
    "ITERS = 100\n",
    "POP_COL = \"TOTPOP20\"\n",
    "N_SAMPS = 10\n",
    "SCORE_FUNCT = None\n",
    "EPS = 0.045\n",
    "MIN_POP_COL = 'HISP'"
   ]
  },
  {
   "cell_type": "code",
   "execution_count": 23,
   "id": "4b256fb2-6669-4ba0-9b2e-2776680f34c4",
   "metadata": {},
   "outputs": [],
   "source": [
    "graph = Graph.from_file('./data/cleaned/final data/CO.shp')"
   ]
  },
  {
   "cell_type": "code",
   "execution_count": 24,
   "id": "4c69e930-237c-49cb-93ac-19f7a596dbdf",
   "metadata": {},
   "outputs": [
    {
     "data": {
      "text/plain": [
       "{'boundary_node': False,\n",
       " 'area': 39373310.67444259,\n",
       " 'STATEFP': '08',\n",
       " 'COUNTYFP': '001',\n",
       " 'VTDST': '001226',\n",
       " 'NAME': 'Adams 226',\n",
       " 'PRECINCT': '6253001226',\n",
       " 'PRES20D': 60,\n",
       " 'PRES20R': 128,\n",
       " 'SEN20D': 60,\n",
       " 'SEN20R': 131,\n",
       " 'TOTPOP20': 368,\n",
       " 'VAP20': 285,\n",
       " 'PRES16D': 59.0,\n",
       " 'PRES16R': 110.0,\n",
       " 'SEN16D': 72.0,\n",
       " 'SEN16R': 97.0,\n",
       " 'GOV18D': 52.0,\n",
       " 'GOV18R': 80.0,\n",
       " 'ATG18D': 50.0,\n",
       " 'ATG18R': 83.0,\n",
       " 'SOS18D': 52.0,\n",
       " 'SOS18R': 80.0,\n",
       " 'TRE18D': 51.0,\n",
       " 'TRE18R': 76.0,\n",
       " 'HISP': 141,\n",
       " 'NH_WHITE': 204,\n",
       " 'NH_BLACK': 0,\n",
       " 'NH_AMIN': 1,\n",
       " 'NH_ASIAN': 12,\n",
       " 'NH_NHPI': 0,\n",
       " 'NH_OTHER': 0,\n",
       " 'NH_2MORE': 10,\n",
       " 'CD': 8,\n",
       " 'geometry': <POLYGON ((527454.509 4424739.321, 527457.779 4424663.821, 527457.48 4424594...>}"
      ]
     },
     "execution_count": 24,
     "metadata": {},
     "output_type": "execute_result"
    }
   ],
   "source": [
    "graph.nodes[0]"
   ]
  },
  {
   "cell_type": "code",
   "execution_count": 25,
   "id": "43b10ef6-575c-400e-9ad4-37c6ebf72a0b",
   "metadata": {},
   "outputs": [],
   "source": [
    "my_updaters = {\"population\" : Tally(POP_COL, alias=\"population\"),\n",
    "               \"VAP\": Tally(\"VAP20\", alias=\"VAP\"),\n",
    "               \"HISP\": Tally(\"HISP\", alias=\"HISP\"),\n",
    "               \"cut_edges\": cut_edges}"
   ]
  },
  {
   "cell_type": "code",
   "execution_count": 26,
   "id": "a199a74a-6335-4a01-afe2-696b2b356617",
   "metadata": {},
   "outputs": [],
   "source": [
    "total_pop = sum([graph.nodes()[n][POP_COL] for n in graph.nodes()])"
   ]
  },
  {
   "cell_type": "code",
   "execution_count": 27,
   "id": "b4ca7064-a2b0-4951-b0b8-c2ac84a52b63",
   "metadata": {},
   "outputs": [
    {
     "name": "stdout",
     "output_type": "stream",
     "text": [
      "HISP_perc\n"
     ]
    }
   ],
   "source": [
    "init_partition = Partition(graph, assignment=\"CD\", updaters=my_updaters)\n",
    "\n",
    "gingles = Gingleator(init_partition, pop_col=POP_COL,\n",
    "                     threshold=0.5, score_funct=SCORE_FUNCT, epsilon=EPS,\n",
    "                     minority_perc_col=\"{}_perc\".format(MIN_POP_COL))\n",
    "\n",
    "gingles.init_minority_perc_col(MIN_POP_COL, \"VAP\", \n",
    "                               \"{}_perc\".format(MIN_POP_COL))"
   ]
  },
  {
   "cell_type": "code",
   "execution_count": 35,
   "id": "b3997029-764f-4d39-a4d7-765f7230f0b8",
   "metadata": {},
   "outputs": [
    {
     "name": "stdout",
     "output_type": "stream",
     "text": [
      "Starting Short Bursts Runs\n",
      "\tFinished chain 0\n",
      "\tSaving results\n",
      "\tFinished chain 1\n",
      "\tSaving results\n",
      "\tFinished chain 2\n",
      "\tSaving results\n",
      "\tFinished chain 3\n",
      "\tSaving results\n",
      "\tFinished chain 4\n",
      "\tSaving results\n",
      "\tFinished chain 5\n",
      "\tSaving results\n",
      "\tFinished chain 6\n",
      "\tSaving results\n",
      "\tFinished chain 7\n",
      "\tSaving results\n",
      "\tFinished chain 8\n",
      "\tSaving results\n",
      "\tFinished chain 9\n",
      "\tSaving results\n"
     ]
    }
   ],
   "source": [
    "num_bursts = int(ITERS/BURST_LEN)\n",
    "\n",
    "print(\"Starting Short Bursts Runs\", flush=True)\n",
    "\n",
    "for n in range(N_SAMPS):\n",
    "    sb_obs = gingles.short_burst_run(num_bursts=num_bursts, num_steps=BURST_LEN,\n",
    "                                     maximize=True, verbose=False)\n",
    "    print(\"\\tFinished chain {}\".format(n), flush=True)\n",
    "\n",
    "    print(\"\\tSaving results\", flush=True)\n",
    "\n",
    "    f_out = \"ShortBurstOutput.npy\"\n",
    "    \n",
    "    np.save(f_out, sb_obs[1])\n",
    "\n",
    "    f_out_part = \"ShortBurstPartition.p\"\n",
    "\n",
    "    max_stats = {\"VAP\": sb_obs[0][0][\"VAP\"],\n",
    "                 \"HISP\": sb_obs[0][0][\"HISP\"],}\n",
    "\n",
    "    with open(f_out_part, \"wb\") as f_out:\n",
    "        pickle.dump(max_stats, f_out)"
   ]
  },
  {
   "cell_type": "code",
   "execution_count": null,
   "id": "401067ad-4007-4594-a885-dfceff9ae0e0",
   "metadata": {},
   "outputs": [],
   "source": []
  }
 ],
 "metadata": {
  "kernelspec": {
   "display_name": "Python 3 (ipykernel)",
   "language": "python",
   "name": "python3"
  },
  "language_info": {
   "codemirror_mode": {
    "name": "ipython",
    "version": 3
   },
   "file_extension": ".py",
   "mimetype": "text/x-python",
   "name": "python",
   "nbconvert_exporter": "python",
   "pygments_lexer": "ipython3",
   "version": "3.12.2"
  }
 },
 "nbformat": 4,
 "nbformat_minor": 5
}
