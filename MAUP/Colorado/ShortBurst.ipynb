{
 "cells": [
  {
   "cell_type": "markdown",
   "id": "6a2110e7-ec4c-41b7-af67-b182272b9fc0",
   "metadata": {},
   "source": [
    "Code from https://github.com/vrdi/shortbursts-gingles/blob/main/state_experiments/sb_runs.py"
   ]
  },
  {
   "cell_type": "code",
   "execution_count": 1,
   "id": "b4feb91c-b646-4285-97a0-4365e62e44fd",
   "metadata": {},
   "outputs": [
    {
     "ename": "ModuleNotFoundError",
     "evalue": "No module named 'gingleator'",
     "output_type": "error",
     "traceback": [
      "\u001b[0;31m---------------------------------------------------------------------------\u001b[0m",
      "\u001b[0;31mModuleNotFoundError\u001b[0m                       Traceback (most recent call last)",
      "Cell \u001b[0;32mIn[1], line 1\u001b[0m\n\u001b[0;32m----> 1\u001b[0m \u001b[38;5;28;01mfrom\u001b[39;00m \u001b[38;5;21;01mgingleator\u001b[39;00m \u001b[38;5;28;01mimport\u001b[39;00m Gingleator\n",
      "\u001b[0;31mModuleNotFoundError\u001b[0m: No module named 'gingleator'"
     ]
    }
   ],
   "source": [
    "from gingleator import Gingleator"
   ]
  },
  {
   "cell_type": "code",
   "execution_count": null,
   "id": "e021eaac-d448-462e-8439-903eaff9c654",
   "metadata": {},
   "outputs": [],
   "source": [
    "score_functs = {0: None, 1: Gingleator.reward_partial_dist, \n",
    "                2: Gingleator.reward_next_highest_close,\n",
    "                3: Gingleator.penalize_maximum_over,\n",
    "                4: Gingleator.penalize_avg_over}"
   ]
  },
  {
   "cell_type": "code",
   "execution_count": null,
   "id": "95437b4c-349a-48b4-a382-a3c7bd12d88c",
   "metadata": {},
   "outputs": [],
   "source": [
    "BURST_LEN = args.l\n",
    "NUM_DISTRICTS = num_h_districts[args.state]\n",
    "ITERS = args.iters\n",
    "POP_COL = \"TOTPOP\"\n",
    "N_SAMPS = 10\n",
    "SCORE_FUNCT = None #score_functs[args.score]\n",
    "EPS = 0.045\n",
    "MIN_POP_COL = args.col"
   ]
  },
  {
   "cell_type": "code",
   "execution_count": null,
   "id": "4b256fb2-6669-4ba0-9b2e-2776680f34c4",
   "metadata": {},
   "outputs": [],
   "source": [
    "graph = Graph.from_file('./data/cleaned/final data/CO.shp')"
   ]
  },
  {
   "cell_type": "code",
   "execution_count": null,
   "id": "43b10ef6-575c-400e-9ad4-37c6ebf72a0b",
   "metadata": {},
   "outputs": [],
   "source": [
    "my_updaters = {\"population\" : Tally(POP_COL, alias=\"population\"),\n",
    "               \"VAP\": Tally(\"VAP\"),\n",
    "               \"BVAP\": Tally(\"BVAP\"),\n",
    "               \"HVAP\": Tally(\"HVAP\"),\n",
    "               \"WVAP\": Tally(\"WVAP\"),\n",
    "               \"nWVAP\": lambda p: {k: v - p[\"WVAP\"][k] for k,v in p[\"VAP\"].items()},\n",
    "               \"cut_edges\": cut_edges}"
   ]
  },
  {
   "cell_type": "code",
   "execution_count": null,
   "id": "a199a74a-6335-4a01-afe2-696b2b356617",
   "metadata": {},
   "outputs": [],
   "source": [
    "total_pop = sum([graph.nodes()[n][POP_COL] for n in graph.nodes()])"
   ]
  },
  {
   "cell_type": "code",
   "execution_count": null,
   "id": "b4ca7064-a2b0-4951-b0b8-c2ac84a52b63",
   "metadata": {},
   "outputs": [],
   "source": [
    "init_partition = Partition(graph, assignment=cddict, updaters=my_updaters)\n",
    "\n",
    "gingles = Gingleator(init_partition, pop_col=POP_COL,\n",
    "                     threshold=0.5, score_funct=SCORE_FUNCT, epsilon=EPS,\n",
    "                     minority_perc_col=\"{}_perc\".format(MIN_POP_COL))\n",
    "\n",
    "gingles.init_minority_perc_col(MIN_POP_COL, \"VAP\", \n",
    "                               \"{}_perc\".format(MIN_POP_COL))"
   ]
  },
  {
   "cell_type": "code",
   "execution_count": null,
   "id": "b3997029-764f-4d39-a4d7-765f7230f0b8",
   "metadata": {},
   "outputs": [],
   "source": [
    "num_bursts = int(ITERS/BURST_LEN)\n",
    "\n",
    "print(\"Starting Short Bursts Runs\", flush=True)\n",
    "\n",
    "for n in range(N_SAMPS):\n",
    "    sb_obs = gingles.short_burst_run(num_bursts=num_bursts, num_steps=BURST_LEN,\n",
    "                                     maximize=True, verbose=False)\n",
    "    print(\"\\tFinished chain {}\".format(n), flush=True)\n",
    "\n",
    "    print(\"\\tSaving results\", flush=True)\n",
    "\n",
    "    f_out = \"data/states/{}_dists{}_{}opt_{:.1%}_{}_sbl{}_score{}_{}.npy\".format(args.state,\n",
    "                                                        NUM_DISTRICTS, MIN_POP_COL, EPS, \n",
    "                                                        ITERS, BURST_LEN, args.score, n)\n",
    "    np.save(f_out, sb_obs[1])\n",
    "\n",
    "    f_out_part = \"data/states/{}_dists{}_{}opt_{:.1%}_{}_sbl{}_score{}_{}_max_part.p\".format(args.state,\n",
    "                                                        NUM_DISTRICTS, MIN_POP_COL, EPS, \n",
    "                                                        ITERS, BURST_LEN, args.score, n)\n",
    "\n",
    "    max_stats = {\"VAP\": sb_obs[0][0][\"VAP\"],\n",
    "                 \"BVAP\": sb_obs[0][0][\"BVAP\"],\n",
    "                 \"WVAP\": sb_obs[0][0][\"WVAP\"],\n",
    "                 \"HVAP\": sb_obs[0][0][\"HVAP\"],}\n",
    "\n",
    "    with open(f_out_part, \"wb\") as f_out:\n",
    "        pickle.dump(max_stats, f_out)"
   ]
  }
 ],
 "metadata": {
  "kernelspec": {
   "display_name": "Python 3 (ipykernel)",
   "language": "python",
   "name": "python3"
  },
  "language_info": {
   "codemirror_mode": {
    "name": "ipython",
    "version": 3
   },
   "file_extension": ".py",
   "mimetype": "text/x-python",
   "name": "python",
   "nbconvert_exporter": "python",
   "pygments_lexer": "ipython3",
   "version": "3.12.2"
  }
 },
 "nbformat": 4,
 "nbformat_minor": 5
}
