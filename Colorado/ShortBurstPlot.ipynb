{
 "cells": [
  {
   "cell_type": "code",
   "execution_count": 1,
   "id": "9b06c247-8c28-485a-9040-d511b6721997",
   "metadata": {},
   "outputs": [],
   "source": [
    "import numpy as np\n",
    "import matplotlib.pyplot as plt\n",
    "import pickle\n",
    "import pandas as pd\n",
    "import seaborn as sns\n",
    "from gerrychain import Graph, GeographicPartition, Partition, Election, accept\n",
    "from gerrychain.updaters import Tally, cut_edges\n",
    "import glob\n",
    "import functools\n",
    "import operator\n",
    "import argparse"
   ]
  },
  {
   "cell_type": "code",
   "execution_count": 2,
   "id": "12ed2442-73f7-4136-bd54-f863cd03a6e3",
   "metadata": {},
   "outputs": [],
   "source": [
    "ST = \"CO\"\n",
    "NUM_DISTRICTS = 8\n",
    "MIN_COL = \"HISP\"\n",
    "iters = 10000"
   ]
  },
  {
   "cell_type": "code",
   "execution_count": 3,
   "id": "6837fcdc-2116-4343-bccb-b08c8137d11b",
   "metadata": {},
   "outputs": [],
   "source": [
    "def foldl(func, acc, xs):\n",
    "  return functools.reduce(func, xs, acc)\n",
    "\n",
    "foldr = lambda func, acc, xs: functools.reduce(lambda x, y: func(y, x), xs[::-1], acc)"
   ]
  },
  {
   "cell_type": "code",
   "execution_count": 4,
   "id": "433e7043-fe22-4295-936e-64a3a8d9a749",
   "metadata": {},
   "outputs": [],
   "source": [
    "def get_state_runs(state, seats, iters=10000, pop_bal=2.0, min_col=\"HISP\",\n",
    "                   ls=[2,5,10,20,40,80], ps=[0.25, 0.125, 0.0625]):\n",
    "    \"\"\" Reads in short burst and biased run results. and returns dictionary of parameter and matrix of run results.\n",
    "        Args:\n",
    "          * state: str      -- abbreviation of state to pull data from\n",
    "          * seats: int      -- number of state House districts\n",
    "          * iters: int      -- number of steps (observed plans) in chain\n",
    "          * pop_bal: float  -- population balance of plans in chain\n",
    "          * min_col: str    -- column name of population to look at majority-minority districts for\n",
    "          * ls: int list    -- list of the burst lengths for the short burst runs\n",
    "          * ps: float list  -- list of acceptance probabilities of \"worse preforming\" plans for the biased runs\n",
    "    \"\"\"\n",
    "    results = {}\n",
    "\n",
    "    for l in ls:\n",
    "        sb_runs = glob.glob(\"pickle/{}_dists{}_{}opt_{}%_10000_sbl10_score0_*.npy\".format(state, seats, \n",
    "                                                                                                min_col, pop_bal))\n",
    "        results[str(l)] = np.zeros((len(sb_runs), iters))\n",
    "        for i, run in enumerate(sb_runs):\n",
    "            results[str(l)][i] = np.load(run).flatten()\n",
    "    for p in ps:\n",
    "        tilt_runs = glob.glob(\"pickle/{}_dists{}_{}opt_{}%_10000_p10_*.npy\".format(state, seats, \n",
    "                                                                                         min_col, pop_bal))\n",
    "        results[str(p)] = np.zeros((len(tilt_runs), iters))\n",
    "        for i, run in enumerate(tilt_runs):\n",
    "            results[str(p)][i] = np.load(run).flatten()\n",
    "    return results"
   ]
  },
  {
   "cell_type": "code",
   "execution_count": 5,
   "id": "7d8e3b95-5fa3-4a04-a333-4345f70d78f5",
   "metadata": {},
   "outputs": [],
   "source": [
    "def create_state_df(runs, iters=10000):\n",
    "    df_st = pd.DataFrame()\n",
    "    for l in runs.keys():\n",
    "        for i in range(runs[l].shape[0]):\n",
    "            df = pd.DataFrame()\n",
    "            df[\"Step\"] = np.arange(iters)\n",
    "            df[\"Maximum\"] = np.maximum.accumulate(runs[l][i].flatten())\n",
    "            df[\"run-type\"] = \"Short Burst\" if float(l) > 1 else \"Biased Run\" if float(l) < 1 else \"Unbiased Run\"\n",
    "            df[\"param\"] = \"b = {}\".format(l) if float(l) > 1 else \"q = {}\".format(l)\n",
    "            df_st = pd.concat([df_st, df], ignore_index=True)\n",
    "    return df_st"
   ]
  },
  {
   "cell_type": "code",
   "execution_count": 6,
   "id": "8d0d7eb2-488d-40bd-868a-9858bb7d1b6b",
   "metadata": {},
   "outputs": [],
   "source": [
    "## gather biased and short burst runs\n",
    "state_runs = get_state_runs(ST, NUM_DISTRICTS, ls=[2,5,10,25,50,100,200], \n",
    "                              pop_bal=4.5, min_col=MIN_COL)"
   ]
  },
  {
   "cell_type": "code",
   "execution_count": 7,
   "id": "419085fb-b4cb-49a2-a996-39e6fff2065f",
   "metadata": {},
   "outputs": [],
   "source": [
    "df_state = create_state_df(state_runs)"
   ]
  },
  {
   "cell_type": "code",
   "execution_count": 8,
   "id": "39054148-567e-4a3a-946a-229b9be0a7ea",
   "metadata": {},
   "outputs": [
    {
     "name": "stderr",
     "output_type": "stream",
     "text": [
      "/var/folders/7d/zg9bnpnx227_d00djx7z944r0000gn/T/ipykernel_40302/519071300.py:12: FutureWarning: \n",
      "\n",
      "The `ci` parameter is deprecated. Use `errorbar='sd'` for the same effect.\n",
      "\n",
      "  sns.lineplot(x=\"Step\", y=\"Maximum\", hue=\"param\",style=\"run-type\", palette=cmap_no_light,\n"
     ]
    }
   ],
   "source": [
    "## Plot runs\n",
    "cmap_no_light = sns.color_palette(['#e6194b', '#3cb44b', '#ffe119', '#4363d8', \n",
    "                                   '#f58231', '#911eb4', '#46f0f0', '#f032e6', \n",
    "                                   '#808000', '#008080', '#9a6324', '#800000', \n",
    "                                   '#aaffc3', '#000075'], n_colors=len(df_state.param.unique()))\n",
    "\n",
    "\n",
    "plt.figure(figsize=(12,8))\n",
    "\n",
    "plt.title(\"{} State House ({} seats)\".format(ST, NUM_DISTRICTS),fontsize=14)\n",
    "\n",
    "sns.lineplot(x=\"Step\", y=\"Maximum\", hue=\"param\",style=\"run-type\", palette=cmap_no_light,\n",
    "             data=df_state, ci=\"sd\", estimator='mean', alpha=0.75)\n",
    "\n",
    "# enacted = 28 # check number\n",
    "# plt.axhline(enacted, label=\"Enacted Plan\", c=\"k\", linestyle='dashdot')\n",
    "\n",
    "plt.ylabel(\"Expected Maximum number of {} gingles districts\".format(MIN_COL),fontsize=12)\n",
    "plt.xlabel(\"Step\",fontsize=12)\n",
    "plt.legend()\n",
    "plt.savefig(\"./images/{}_maxes_burst_{}.png\".format(ST, MIN_COL), dpi=200, bbox_inches='tight')\n",
    "plt.close()"
   ]
  }
 ],
 "metadata": {
  "kernelspec": {
   "display_name": "Python 3 (ipykernel)",
   "language": "python",
   "name": "python3"
  },
  "language_info": {
   "codemirror_mode": {
    "name": "ipython",
    "version": 3
   },
   "file_extension": ".py",
   "mimetype": "text/x-python",
   "name": "python",
   "nbconvert_exporter": "python",
   "pygments_lexer": "ipython3",
   "version": "3.12.2"
  }
 },
 "nbformat": 4,
 "nbformat_minor": 5
}
